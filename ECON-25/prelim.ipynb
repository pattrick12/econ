{
 "cells": [
  {
   "cell_type": "code",
   "execution_count": 12,
   "id": "initial_id",
   "metadata": {
    "ExecuteTime": {
     "end_time": "2025-04-21T00:05:52.388167Z",
     "start_time": "2025-04-21T00:05:49.448322Z"
    },
    "collapsed": true,
    "vscode": {
     "languageId": "r"
    }
   },
   "outputs": [],
   "source": [
    "library(tidyverse)"
   ]
  },
  {
   "cell_type": "code",
   "execution_count": 1,
   "id": "b9a9ece8",
   "metadata": {
    "vscode": {
     "languageId": "r"
    }
   },
   "outputs": [
    {
     "ename": "ERROR",
     "evalue": "Error in read_csv(\"./rsc/ECO221_Project_2025_Final.csv\"): could not find function \"read_csv\"\n",
     "output_type": "error",
     "traceback": [
      "Error in read_csv(\"./rsc/ECO221_Project_2025_Final.csv\"): could not find function \"read_csv\"\nTraceback:\n"
     ]
    }
   ],
   "source": [
    "pigeonpea_df <- read_csv(\"./rsc/ECO221_Project_2025_Final.csv\")\n",
    "rainfall_df <- read_csv(\"./rsc/RF_DistrictWise_ECO221_2025.csv\")\n",
    "soil_df <- read_csv(\"./rsc/Salinity_Alkalinity_ECO221_2025.csv\")\n",
    "names(pigeonpea_df) <- tolower(str_trim(names(pigeonpea_df)))\n",
    "names(rainfall_df) <- tolower(str_trim(names(rainfall_df)))\n",
    "names(soil_df) <- tolower(str_trim(names(soil_df)))\n",
    "\n",
    "pigeonpea_df <- pigeonpea_df %>%\n",
    "  rename(district = districtname, state = statename)\n",
    "\n",
    "soil_df <- soil_df %>%\n",
    "  rename(\n",
    "    district = `district name`,\n",
    "    salinity = `average salinity/alkalinity (percentage)`\n",
    "  )\n",
    "\n",
    "pigeonpea_df <- pigeonpea_df %>%\n",
    "  filter(tolower(crop) == \"pigeonpea\")\n",
    "\n",
    "pigeonpea_df <- pigeonpea_df %>%\n",
    "  mutate(irrigatedarea1000hectares = pmin(irrigatedarea1000hectares, area1000hectares, na.rm = TRUE))\n",
    "\n",
    "# Standardize merge keys\n",
    "pigeonpea_df <- pigeonpea_df %>%\n",
    "  mutate(across(c(state, district), ~str_to_lower(str_trim(.))))\n",
    "rainfall_df <- rainfall_df %>%\n",
    "  mutate(across(c(state, district), ~str_to_lower(str_trim(.))))\n",
    "soil_df <- soil_df %>%\n",
    "  mutate(district = str_to_lower(str_trim(district)))\n",
    "\n",
    "\n",
    "rainfall_df <- rainfall_df %>%\n",
    "  select(-year) %>%\n",
    "  rename(year = yearcode) %>%\n",
    "  mutate(year = as.integer(year))\n",
    "\n",
    "pigeonpea_df$year <- as.integer(pigeonpea_df$year)\n",
    "\n",
    "cat(\"🔎 Raw values in rainfall_df$month before cleaning:\\n\")\n",
    "print(unique(rainfall_df$month))\n",
    "\n",
    "rainfall_df <- rainfall_df %>%\n",
    "  mutate(month_clean = str_to_lower(str_trim(str_extract(as.character(month), \"^[A-Za-z]+\"))))\n",
    "\n",
    "valid_months <- c(\"june\", \"july\", \"august\", \"september\", \"october\")\n",
    "rainfall_df <- rainfall_df %>%\n",
    "  filter(month_clean %in% valid_months)\n",
    "\n",
    "print(unique(rainfall_df$month_clean))\n",
    "rainfall_avg <- rainfall_df %>%\n",
    "  group_by(state, district, year) %>%\n",
    "  summarise(rf = mean(rf, na.rm = TRUE), .groups = \"drop\")\n",
    "\n",
    "merged_df <- pigeonpea_df %>%\n",
    "  left_join(rainfall_avg, by = c(\"state\", \"district\", \"year\"))\n",
    "\n",
    "merged_df <- merged_df %>%\n",
    "  left_join(soil_df %>% select(district, salinity), by = \"district\")\n",
    "\n",
    "# Save final merged file\n",
    "write_csv(merged_df, \"Seasonal_Merged_PigeonPea.csv\")\n",
    "cat(\"\\nFinal merge completed. Output saved as: Seasonal_Merged_PigeonPea.csv\\n\")\n",
    "\n",
    "print(colSums(is.na(select(merged_df, rf, salinity))))"
   ]
  }
 ],
 "metadata": {
  "kernelspec": {
   "display_name": "R",
   "language": "R",
   "name": "ir"
  },
  "language_info": {
   "codemirror_mode": "r",
   "file_extension": ".r",
   "mimetype": "text/x-r-source",
   "name": "R",
   "pygments_lexer": "r",
   "version": "4.2.3"
  }
 },
 "nbformat": 4,
 "nbformat_minor": 5
}
